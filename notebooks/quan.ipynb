{
 "cells": [
  {
   "cell_type": "code",
   "execution_count": 3,
   "id": "a0ce96b2",
   "metadata": {},
   "outputs": [
    {
     "name": "stdout",
     "output_type": "stream",
     "text": [
      "Using column: cast_02649\n",
      "Target 0: 7976102.5227272725\n",
      "Target 1: 8993313.05\n",
      "Target 2: 9194878.228365384\n",
      "Target 3: 3825926.849137931\n"
     ]
    }
   ],
   "source": [
    "import pandas as pd\n",
    "\n",
    "# Load dataset\n",
    "file_path = \"F:/casts/dataset_rt.csv\"\n",
    "df = pd.read_csv(file_path)\n",
    "\n",
    "# Ask user for number and bin\n",
    "num = float(input(\"Enter number (e.g., 864.9): \"))\n",
    "bin_value = int(input(\"Enter bin value (e.g., 25): \"))\n",
    "\n",
    "# Build column name: zero-padded 5 digits\n",
    "col_num = int((num - 600) * 10)\n",
    "col_name = \"cast_\" + str(col_num).zfill(5)\n",
    "print(f\"Using column: {col_name}\")\n",
    "\n",
    "# Filter dataset by bin\n",
    "df_bin = df[df[\"bin\"] == bin_value]\n",
    "\n",
    "if col_name not in df_bin.columns:\n",
    "    print(f\"Column '{col_name}' not found in dataset.\")\n",
    "else:\n",
    "    # Group by target and calculate mean\n",
    "    averages = df_bin.groupby(\"target\")[col_name].mean()\n",
    "\n",
    "    for target in [0, 1, 2, 3]:\n",
    "        val = averages.get(target, \"No data\")\n",
    "        print(f\"Target {target}: {val}\")\n"
   ]
  },
  {
   "cell_type": "code",
   "execution_count": 5,
   "id": "74444ed0",
   "metadata": {},
   "outputs": [
    {
     "name": "stdout",
     "output_type": "stream",
     "text": [
      "Resolved columns: cast_01502, cast_00067, cast_01642, cast_01422, cast_01512\n",
      "\n",
      "Average values by target (rows) and cast columns (columns):\n",
      "     cast_01502    cast_00067    cast_01642    cast_01422    cast_01512\n",
      "0  2.133233e+07  1.300692e+06  3.745564e+06  1.138287e+07  8.940805e+06\n",
      "1  1.992571e+07  1.461214e+06  4.742691e+06  1.070613e+07  8.878687e+06\n",
      "2  1.484272e+07  1.129760e+06  6.238774e+06  1.118276e+07  7.049923e+06\n",
      "3  3.894499e+07  1.892069e+06  3.287128e+06  1.106866e+07  1.454423e+07\n",
      "\n",
      "Saved table to: F:/casts\\averages_by_target_bin_5_0.csv\n"
     ]
    }
   ],
   "source": [
    "import os\n",
    "import pandas as pd\n",
    "import numpy as np\n",
    "\n",
    "# --- Config ---\n",
    "FILE_PATH = r\"F:/casts/dataset_rt.csv\"   # update if needed\n",
    "OUT_DIR   = os.path.dirname(FILE_PATH) or \".\"\n",
    "\n",
    "# --- Load data ---\n",
    "df = pd.read_csv(FILE_PATH)\n",
    "\n",
    "# --- Inputs ---\n",
    "bin_value = float(input(\"Enter bin value (e.g., 25): \").strip())\n",
    "nums_str = input(\"Enter numbers separated by commas (e.g., 864.9, 865.2, 900): \").strip()\n",
    "\n",
    "# Parse numbers\n",
    "nums = [float(x) for x in nums_str.split(\",\") if x.strip()]\n",
    "\n",
    "# Convert to cast column names:\n",
    "# 1) (num - 600) * 10\n",
    "# 2) int(...)  (truncate toward zero)\n",
    "# 3) zero-pad to 5 digits and prefix \"cast_\"\n",
    "def to_cast_col(n: float) -> str:\n",
    "    col_num = int((n - 600) * 10)\n",
    "    return \"cast_\" + str(col_num).zfill(5)\n",
    "\n",
    "cast_cols = [to_cast_col(n) for n in nums]\n",
    "print(\"Resolved columns:\", \", \".join(cast_cols))\n",
    "\n",
    "# --- Filter by bin ---\n",
    "df_bin = df[df[\"bin\"] == bin_value].copy()\n",
    "\n",
    "if df_bin.empty:\n",
    "    print(f\"No rows found for bin == {bin_value}.\")\n",
    "    # Still produce an empty table with requested columns and targets 0-3\n",
    "    result = pd.DataFrame(index=[0,1,2,3], columns=cast_cols, dtype=float)\n",
    "else:\n",
    "    # Ensure target is present; if not, raise a helpful message\n",
    "    if \"target\" not in df_bin.columns:\n",
    "        raise KeyError(\"Column 'target' not found in the dataset.\")\n",
    "\n",
    "    # Prepare an empty result table (targets 0..3 x requested columns)\n",
    "    result = pd.DataFrame(index=[0,1,2,3], columns=cast_cols, dtype=float)\n",
    "\n",
    "    # Compute means per target for each requested cast column\n",
    "    for col in cast_cols:\n",
    "        if col in df_bin.columns:\n",
    "            means = df_bin.groupby(\"target\")[col].mean()\n",
    "            # Place into result, ensuring targets 0..3 (NaN if missing)\n",
    "            result[col] = means.reindex([0,1,2,3])\n",
    "        else:\n",
    "            # Column not found; leave as NaN and note it\n",
    "            print(f\"Warning: column '{col}' not found in dataset.\")\n",
    "\n",
    "# --- Pretty print ---\n",
    "print(\"\\nAverage values by target (rows) and cast columns (columns):\")\n",
    "print(result)\n",
    "\n",
    "# --- Save to CSV ---\n",
    "safe_bin = str(bin_value).replace(\".\", \"_\")\n",
    "out_path = os.path.join(OUT_DIR, f\"averages_by_target_bin_{safe_bin}.csv\")\n",
    "result.to_csv(out_path, index_label=\"target\")\n",
    "print(f\"\\nSaved table to: {out_path}\")\n"
   ]
  }
 ],
 "metadata": {
  "kernelspec": {
   "display_name": "vae",
   "language": "python",
   "name": "python3"
  },
  "language_info": {
   "codemirror_mode": {
    "name": "ipython",
    "version": 3
   },
   "file_extension": ".py",
   "mimetype": "text/x-python",
   "name": "python",
   "nbconvert_exporter": "python",
   "pygments_lexer": "ipython3",
   "version": "3.12.6"
  }
 },
 "nbformat": 4,
 "nbformat_minor": 5
}
